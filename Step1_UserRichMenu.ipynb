{
 "cells": [
  {
   "cell_type": "code",
   "execution_count": 1,
   "metadata": {
    "colab": {},
    "colab_type": "code",
    "id": "IQRy877fT0M1"
   },
   "outputs": [
    {
     "data": {
      "text/plain": [
       "'\\n\\n用戶菜單功能介紹\\n\\n    用戶能透過點擊菜單，進行我方希冀之業務功能。\\n    \\n流程\\n    準備菜單的圖面設定檔\\n    讀取安全設定檔上的參數\\n    將菜單設定檔傳給Line\\n    對Line上傳菜單照片\\n    檢視現有的菜單\\n    將菜單與用戶做綁定\\n    將菜單與用戶解除綁定\\n    刪除菜單\\n\\n'"
      ]
     },
     "execution_count": 1,
     "metadata": {},
     "output_type": "execute_result"
    }
   ],
   "source": [
    "'''\n",
    "\n",
    "用戶菜單功能介紹\n",
    "\n",
    "    用戶能透過點擊菜單，進行我方希冀之業務功能。\n",
    "    \n",
    "流程\n",
    "    準備菜單的圖面設定檔\n",
    "    讀取安全設定檔上的參數\n",
    "    將菜單設定檔傳給Line\n",
    "    對Line上傳菜單照片\n",
    "    檢視現有的菜單\n",
    "    將菜單與用戶做綁定\n",
    "    將菜單與用戶解除綁定\n",
    "    刪除菜單\n",
    "\n",
    "'''"
   ]
  },
  {
   "cell_type": "code",
   "execution_count": 2,
   "metadata": {
    "colab": {},
    "colab_type": "code",
    "id": "v-NAg2xHT0M8"
   },
   "outputs": [],
   "source": [
    "menuRawData=\"\"\"\n",
    "{\n",
    "  \"size\": {\n",
    "    \"width\": 2500,\n",
    "    \"height\": 843\n",
    "  },\n",
    "  \"selected\": true,\n",
    "  \"name\": \"圖文選單 1\",\n",
    "  \"chatBarText\": \"查看更多資訊\",\n",
    "  \"areas\": [\n",
    "    {\n",
    "      \"bounds\": {\n",
    "        \"x\": 210,\n",
    "        \"y\": 11,\n",
    "        \"width\": 836,\n",
    "        \"height\": 832\n",
    "      },\n",
    "      \"action\": {\n",
    "        \"type\": \"postback\",\n",
    "        \"text\": \"直接玩玩看吧!\",\n",
    "        \"data\": \"FNS2\"\n",
    "      }\n",
    "    },\n",
    "    {\n",
    "      \"bounds\": {\n",
    "        \"x\": 1507,\n",
    "        \"y\": 5,\n",
    "        \"width\": 835,\n",
    "        \"height\": 838\n",
    "      },\n",
    "      \"action\": {\n",
    "        \"type\": \"postback\",\n",
    "        \"text\": \"了解一下!\",\n",
    "        \"data\": \"Intro\"\n",
    "      }\n",
    "    }\n",
    "  ]\n",
    "}\n",
    "\"\"\""
   ]
  },
  {
   "cell_type": "code",
   "execution_count": 3,
   "metadata": {
    "colab": {},
    "colab_type": "code",
    "id": "vYexYwjiT0M-",
    "outputId": "daf73774-747c-46b1-a6bb-1734c5d242a3"
   },
   "outputs": [
    {
     "name": "stdout",
     "output_type": "stream",
     "text": [
      "7J/3o1KIlMWRrxyB78Jzczlv2xkQX7bvgq53uoj6Gzd+KybaUlhfNz/oYda5bUDFbIWiWeKT/mJVfIHUup8+KMRcRgV8h9eeO8KaNGJrMbg5pqTfbot0UgJTYaXcco7bQzYonf7+LDcwsFoY8n8qbQdB04t89/1O/w1cDnyilFU=\n",
      "d71b412ba184e577bf018413234c68b8\n",
      "U3701a743e6f749643182cd63fb2e7545\n"
     ]
    }
   ],
   "source": [
    "'''\n",
    "\n",
    "讀取安全檔案內的字串，以供後續程式碼調用\n",
    "\n",
    "'''\n",
    "import json\n",
    "secretFileContentJson=json.load(open(\"./line_secret_key\",'r'))\n",
    "\n",
    "print(secretFileContentJson.get(\"channel_access_token\"))\n",
    "print(secretFileContentJson.get(\"secret_key\"))\n",
    "print(secretFileContentJson.get(\"self_user_id\"))\n"
   ]
  },
  {
   "cell_type": "code",
   "execution_count": 4,
   "metadata": {
    "colab": {},
    "colab_type": "code",
    "id": "Kf0VcrAiT0NC",
    "outputId": "fe37d6a3-89a7-41b2-d19c-33e677b17e32"
   },
   "outputs": [
    {
     "name": "stdout",
     "output_type": "stream",
     "text": [
      "<Response [200]>\n",
      "{\"richMenuId\":\"richmenu-506e442bcf3f239118dc439e2518e82e\"}\n"
     ]
    }
   ],
   "source": [
    "'''\n",
    "\n",
    "將先前準備的菜單設定檔，以Post消息寄發給Line\n",
    "\n",
    "    設定Line的遠端位置\n",
    "    設定消息的基本安全憑證\n",
    "    寄發消息，並取得回應之Id\n",
    "    \n",
    "\n",
    "'''\n",
    "\n",
    "import requests\n",
    "\n",
    "menuJson=json.loads(menuRawData)\n",
    "\n",
    "createMenuEndpoint = 'https://api.line.me/v2/bot/richmenu'\n",
    "createMenuRequestHeader={'Content-Type':'application/json','Authorization':'Bearer %s' % secretFileContentJson[\"channel_access_token\"]}\n",
    "\n",
    "#print(createMenuRequestHeader)\n",
    "\n",
    "lineCreateMenuResponse = requests.post(createMenuEndpoint,headers=createMenuRequestHeader,data=json.dumps(menuJson))\n",
    "\n",
    "print(lineCreateMenuResponse)\n",
    "print(lineCreateMenuResponse.text)\n"
   ]
  },
  {
   "cell_type": "code",
   "execution_count": 5,
   "metadata": {
    "colab": {},
    "colab_type": "code",
    "id": "ste7aJCKT0NF",
    "outputId": "20882a5c-89d6-4297-c58a-cf35c370c7cc",
    "scrolled": true
   },
   "outputs": [
    {
     "name": "stdout",
     "output_type": "stream",
     "text": [
      "richmenu-506e442bcf3f239118dc439e2518e82e\n",
      "https://api.line.me/v2/bot/richmenu/richmenu-506e442bcf3f239118dc439e2518e82e/content\n",
      "<Response [200]>\n",
      "{}\n"
     ]
    }
   ],
   "source": [
    "'''\n",
    "\n",
    "將先前準備的菜單照片，以Post消息寄發給Line\n",
    "    取得上面設定檔的Id\n",
    "    設定Line的遠端位置\n",
    "    設定消息的基本安全憑證\n",
    "    上傳照片，並取得回傳成果\n",
    "\n",
    "'''\n",
    "\n",
    "# 取得菜單Id \n",
    "uploadRichMenuId=json.loads(lineCreateMenuResponse.text).get(\"richMenuId\")\n",
    "print(uploadRichMenuId)\n",
    "#'https://api.line.me/v2/bot/richmenu/{richMenuId}/content'\n",
    "\n",
    "# 設定Line的遠端位置\n",
    "uploadMenuEndpoint='https://api.line.me/v2/bot/richmenu/%s/content' % uploadRichMenuId\n",
    "print(uploadMenuEndpoint)\n",
    "\n",
    "# 設定消息的基本安全憑證\n",
    "uploadMenuRequestHeader={'Content-Type':'image/jpeg','Authorization':'Bearer %s' % secretFileContentJson[\"channel_access_token\"]}\n",
    "\n",
    "# 上傳照片\n",
    "uploadImageFile=open(\"./images/menu.jpg\",'rb')\n",
    "lineUploadMenuResponse=requests.post(uploadMenuEndpoint,headers=uploadMenuRequestHeader,data=uploadImageFile)\n",
    "\n",
    "print(lineUploadMenuResponse)\n",
    "print(lineUploadMenuResponse.text)"
   ]
  },
  {
   "cell_type": "code",
   "execution_count": 6,
   "metadata": {
    "colab": {},
    "colab_type": "code",
    "id": "3ksFp9iiT0NI",
    "outputId": "4051a396-84b2-44ad-f1bd-8614eebfb009"
   },
   "outputs": [
    {
     "name": "stdout",
     "output_type": "stream",
     "text": [
      "https://api.line.me/v2/bot/user/U3701a743e6f749643182cd63fb2e7545/richmenu/richmenu-506e442bcf3f239118dc439e2518e82e\n",
      "<Response [200]>\n",
      "{}\n"
     ]
    }
   ],
   "source": [
    "'''\n",
    "\n",
    "將選單綁定到特定用戶身上\n",
    "    取出上面得到的菜單Id及用戶id\n",
    "    設定Line的遠端位置\n",
    "    設定消息的基本安全憑證\n",
    "    發送消息告知\n",
    "\n",
    "'''\n",
    "\n",
    "# https://api.line.me/v2/bot/user/{userId}/richmenu/{richMenuId}\n",
    "\n",
    "# 取得菜單id\n",
    "linkRichMenuId=json.loads(lineCreateMenuResponse.text).get(\"richMenuId\")\n",
    "\n",
    "# 將菜單id與用戶id組合成遠端位置\n",
    "linkMenuEndpoint='https://api.line.me/v2/bot/user/%s/richmenu/%s' % (secretFileContentJson[\"self_user_id\"], linkRichMenuId)\n",
    "print(linkMenuEndpoint)\n",
    "\n",
    "# 設定消息基本安全憑證\n",
    "linkMenuRequestHeader={'Content-Type':'image/jpeg','Authorization':'Bearer %s' % secretFileContentJson[\"channel_access_token\"]}\n",
    "\n",
    "# 發送消息\n",
    "lineLinkMenuResponse=requests.post(linkMenuEndpoint,headers=linkMenuRequestHeader)\n",
    "print(lineLinkMenuResponse)\n",
    "print(lineLinkMenuResponse.text)"
   ]
  },
  {
   "cell_type": "code",
   "execution_count": 7,
   "metadata": {
    "colab": {},
    "colab_type": "code",
    "id": "1iEjmi2zT0NL",
    "outputId": "02369978-40b3-433a-adff-d880cc72c475"
   },
   "outputs": [
    {
     "name": "stdout",
     "output_type": "stream",
     "text": [
      "https://api.line.me/v2/bot/user/U3701a743e6f749643182cd63fb2e7545/richmenu\n",
      "<Response [200]>\n",
      "{\"richMenuId\":\"richmenu-506e442bcf3f239118dc439e2518e82e\"}\n"
     ]
    }
   ],
   "source": [
    "'''\n",
    "\n",
    "檢視用戶目前所綁定的菜單\n",
    "    取出用戶id\n",
    "    設定Line的遠端位置\n",
    "    設定消息的基本安全憑證\n",
    "    發送消息告知\n",
    "\n",
    "'''\n",
    "\n",
    "#  https://api.line.me/v2/bot/user/{userId}/richmenu\n",
    "\n",
    "# 取出用戶id，設定Line的遠端位置\n",
    "userMenuEndpoint='https://api.line.me/v2/bot/user/%s/richmenu' % (secretFileContentJson[\"self_user_id\"])\n",
    "print(userMenuEndpoint)\n",
    "\n",
    "# 設定消息的基本安全憑證\n",
    "userMenuRequestHeader={'Authorization':'Bearer %s' % secretFileContentJson[\"channel_access_token\"]}\n",
    "\n",
    "# 發送消息告知\n",
    "lineUserMenuResponse=requests.get(userMenuEndpoint,headers=userMenuRequestHeader)\n",
    "print(lineUserMenuResponse)\n",
    "print(lineUserMenuResponse.text)\n"
   ]
  },
  {
   "cell_type": "code",
   "execution_count": null,
   "metadata": {
    "colab": {},
    "colab_type": "code",
    "id": "jkt1bb6BT0NO"
   },
   "outputs": [],
   "source": []
  },
  {
   "cell_type": "code",
   "execution_count": null,
   "metadata": {
    "colab": {},
    "colab_type": "code",
    "id": "qf-_lUfYT0NP"
   },
   "outputs": [],
   "source": []
  },
  {
   "cell_type": "code",
   "execution_count": 8,
   "metadata": {
    "colab": {},
    "colab_type": "code",
    "id": "CLoLJta8T0NS",
    "outputId": "7c8259c0-615f-4e66-85c6-0c93accdbde4"
   },
   "outputs": [
    {
     "name": "stdout",
     "output_type": "stream",
     "text": [
      "https://api.line.me/v2/bot/user/U3701a743e6f749643182cd63fb2e7545/richmenu\n",
      "<Response [200]>\n",
      "{}\n"
     ]
    }
   ],
   "source": [
    "'''\n",
    "\n",
    "解除選單與特定用戶的綁定\n",
    "    取出用戶id\n",
    "    設定Line的遠端位置\n",
    "    設定消息的基本安全憑證\n",
    "    發送消息告知\n",
    "\n",
    "'''\n",
    "\n",
    "# 取出用戶id，設定Line的遠端位置\n",
    "userMenuEndpoint='https://api.line.me/v2/bot/user/%s/richmenu' % (secretFileContentJson[\"self_user_id\"])\n",
    "print(userMenuEndpoint)\n",
    "\n",
    "# 設定消息的基本安全憑證\n",
    "userMenuRequestHeader={'Authorization':'Bearer %s' % secretFileContentJson[\"channel_access_token\"]}\n",
    "\n",
    "# 發送消息告知\n",
    "lineUnregisterUserMenuResponse=requests.delete(userMenuEndpoint,headers=userMenuRequestHeader)\n",
    "print(lineUnregisterUserMenuResponse)\n",
    "print(lineUnregisterUserMenuResponse.text)"
   ]
  },
  {
   "cell_type": "code",
   "execution_count": null,
   "metadata": {
    "colab": {},
    "colab_type": "code",
    "id": "KTr-h3hkT0NV"
   },
   "outputs": [],
   "source": []
  },
  {
   "cell_type": "code",
   "execution_count": 9,
   "metadata": {
    "colab": {},
    "colab_type": "code",
    "id": "xeA-5SFxT0NW",
    "outputId": "514e2790-7d11-4caa-b86d-d5f501df989c"
   },
   "outputs": [
    {
     "name": "stdout",
     "output_type": "stream",
     "text": [
      "{\"richmenus\":[{\"richMenuId\":\"richmenu-931cbcd0fd89b169b100ce9b11686c5f\",\"name\":\"圖文選單 1\",\"size\":{\"width\":2500,\"height\":843},\"chatBarText\":\"查看更多資訊\",\"selected\":true,\"areas\":[{\"bounds\":{\"x\":210,\"y\":11,\"width\":836,\"height\":832},\"action\":{\"type\":\"postback\",\"data\":\"FNS2\",\"text\":\"直接玩玩看吧!\"}},{\"bounds\":{\"x\":1507,\"y\":5,\"width\":835,\"height\":838},\"action\":{\"type\":\"postback\",\"data\":\"Intro\",\"text\":\"了解一下!\"}}]},{\"richMenuId\":\"richmenu-0e225aea1fa03563e63640473bc15bfb\",\"name\":\"區塊鏈自定義菜單\",\"size\":{\"width\":2500,\"height\":1686},\"chatBarText\":\"查看更多資訊\",\"selected\":true,\"areas\":[{\"bounds\":{\"x\":5,\"y\":0,\"width\":824,\"height\":850},\"action\":{\"type\":\"message\",\"text\":\"[::text:]傳統交易\"}},{\"bounds\":{\"x\":0,\"y\":850,\"width\":825,\"height\":818},\"action\":{\"type\":\"message\",\"text\":\"[::text:]第三方公證人\"}},{\"bounds\":{\"x\":829,\"y\":5,\"width\":871,\"height\":849},\"action\":{\"type\":\"message\",\"text\":\"[::text:]多位公證人\"}},{\"bounds\":{\"x\":825,\"y\":854,\"width\":875,\"height\":814},\"action\":{\"type\":\"message\",\"text\":\"[::text:]多組織多位公證人\"}},{\"bounds\":{\"x\":1700,\"y\":0,\"width\":800,\"height\":858},\"action\":{\"type\":\"message\",\"text\":\"[::text:]教學訊息\"}},{\"bounds\":{\"x\":1700,\"y\":858,\"width\":800,\"height\":810},\"action\":{\"type\":\"message\",\"text\":\"[::text:]more\"}}]},{\"richMenuId\":\"richmenu-506e442bcf3f239118dc439e2518e82e\",\"name\":\"圖文選單 1\",\"size\":{\"width\":2500,\"height\":843},\"chatBarText\":\"查看更多資訊\",\"selected\":true,\"areas\":[{\"bounds\":{\"x\":210,\"y\":11,\"width\":836,\"height\":832},\"action\":{\"type\":\"postback\",\"data\":\"FNS2\",\"text\":\"直接玩玩看吧!\"}},{\"bounds\":{\"x\":1507,\"y\":5,\"width\":835,\"height\":838},\"action\":{\"type\":\"postback\",\"data\":\"Intro\",\"text\":\"了解一下!\"}}]},{\"richMenuId\":\"richmenu-2122ea03a6478740252b6e6ec51f7904\",\"name\":\"區塊鏈自定義菜單\",\"size\":{\"width\":2500,\"height\":1686},\"chatBarText\":\"查看更多資訊\",\"selected\":true,\"areas\":[{\"bounds\":{\"x\":5,\"y\":0,\"width\":824,\"height\":850},\"action\":{\"type\":\"message\",\"text\":\"[::text:]傳統交易\"}},{\"bounds\":{\"x\":0,\"y\":850,\"width\":825,\"height\":818},\"action\":{\"type\":\"message\",\"text\":\"[::text:]第三方公證人\"}},{\"bounds\":{\"x\":829,\"y\":5,\"width\":871,\"height\":849},\"action\":{\"type\":\"message\",\"text\":\"[::text:]多位公證人\"}},{\"bounds\":{\"x\":825,\"y\":854,\"width\":875,\"height\":814},\"action\":{\"type\":\"message\",\"text\":\"[::text:]多組織多位公證人\"}},{\"bounds\":{\"x\":1700,\"y\":0,\"width\":800,\"height\":858},\"action\":{\"type\":\"message\",\"text\":\"[::text:]教學訊息\"}},{\"bounds\":{\"x\":1700,\"y\":858,\"width\":800,\"height\":810},\"action\":{\"type\":\"message\",\"text\":\"[::text:]more\"}}]},{\"richMenuId\":\"richmenu-c542200b46723e23ec0f7e7b57b34ddd\",\"name\":\"區塊鏈自定義菜單\",\"size\":{\"width\":2500,\"height\":1686},\"chatBarText\":\"查看更多資訊\",\"selected\":true,\"areas\":[{\"bounds\":{\"x\":5,\"y\":0,\"width\":824,\"height\":850},\"action\":{\"type\":\"message\",\"text\":\"[::text:]傳統交易\"}},{\"bounds\":{\"x\":0,\"y\":850,\"width\":825,\"height\":818},\"action\":{\"type\":\"message\",\"text\":\"[::text:]第三方公證人\"}},{\"bounds\":{\"x\":829,\"y\":5,\"width\":871,\"height\":849},\"action\":{\"type\":\"message\",\"text\":\"[::text:]多位公證人\"}},{\"bounds\":{\"x\":825,\"y\":854,\"width\":875,\"height\":814},\"action\":{\"type\":\"message\",\"text\":\"[::text:]多組織多位公證人\"}},{\"bounds\":{\"x\":1700,\"y\":0,\"width\":800,\"height\":858},\"action\":{\"type\":\"message\",\"text\":\"[::text:]教學訊息\"}},{\"bounds\":{\"x\":1700,\"y\":858,\"width\":800,\"height\":810},\"action\":{\"type\":\"message\",\"text\":\"[::text:]more\"}}]},{\"richMenuId\":\"richmenu-ef43ff8c70fd1e73aefcae4319a85703\",\"name\":\"區塊鏈自定義菜單\",\"size\":{\"width\":2500,\"height\":1686},\"chatBarText\":\"查看更多資訊\",\"selected\":true,\"areas\":[{\"bounds\":{\"x\":5,\"y\":0,\"width\":824,\"height\":850},\"action\":{\"type\":\"message\",\"text\":\"[::text:]傳統交易\"}},{\"bounds\":{\"x\":0,\"y\":850,\"width\":825,\"height\":818},\"action\":{\"type\":\"message\",\"text\":\"[::text:]第三方公證人\"}},{\"bounds\":{\"x\":829,\"y\":5,\"width\":871,\"height\":849},\"action\":{\"type\":\"message\",\"text\":\"[::text:]多位公證人\"}},{\"bounds\":{\"x\":825,\"y\":854,\"width\":875,\"height\":814},\"action\":{\"type\":\"message\",\"text\":\"[::text:]多組織多位公證人\"}},{\"bounds\":{\"x\":1700,\"y\":0,\"width\":800,\"height\":858},\"action\":{\"type\":\"message\",\"text\":\"[::text:]教學訊息\"}},{\"bounds\":{\"x\":1700,\"y\":858,\"width\":800,\"height\":810},\"action\":{\"type\":\"message\",\"text\":\"[::text:]more\"}}]},{\"richMenuId\":\"richmenu-c492fdae376883eac16e17df37771628\",\"name\":\"區塊鏈自定義菜單\",\"size\":{\"width\":2500,\"height\":1686},\"chatBarText\":\"查看更多資訊\",\"selected\":true,\"areas\":[{\"bounds\":{\"x\":5,\"y\":0,\"width\":824,\"height\":850},\"action\":{\"type\":\"message\",\"text\":\"[::text:]傳統交易\"}},{\"bounds\":{\"x\":0,\"y\":850,\"width\":825,\"height\":818},\"action\":{\"type\":\"message\",\"text\":\"[::text:]第三方公證人\"}},{\"bounds\":{\"x\":829,\"y\":5,\"width\":871,\"height\":849},\"action\":{\"type\":\"message\",\"text\":\"[::text:]多位公證人\"}},{\"bounds\":{\"x\":825,\"y\":854,\"width\":875,\"height\":814},\"action\":{\"type\":\"message\",\"text\":\"[::text:]多組織多位公證人\"}},{\"bounds\":{\"x\":1700,\"y\":0,\"width\":800,\"height\":858},\"action\":{\"type\":\"message\",\"text\":\"[::text:]教學訊息\"}},{\"bounds\":{\"x\":1700,\"y\":858,\"width\":800,\"height\":810},\"action\":{\"type\":\"message\",\"text\":\"[::text:]more\"}}]},{\"richMenuId\":\"richmenu-8aee2bdb35d92534e1bd86ff852f835a\",\"name\":\"區塊鏈自定義菜單\",\"size\":{\"width\":2500,\"height\":1686},\"chatBarText\":\"查看更多資訊\",\"selected\":true,\"areas\":[{\"bounds\":{\"x\":5,\"y\":0,\"width\":824,\"height\":850},\"action\":{\"type\":\"message\",\"text\":\"[::text:]傳統交易\"}},{\"bounds\":{\"x\":0,\"y\":850,\"width\":825,\"height\":818},\"action\":{\"type\":\"message\",\"text\":\"[::text:]第三方公證人\"}},{\"bounds\":{\"x\":829,\"y\":5,\"width\":871,\"height\":849},\"action\":{\"type\":\"message\",\"text\":\"[::text:]多位公證人\"}},{\"bounds\":{\"x\":825,\"y\":854,\"width\":875,\"height\":814},\"action\":{\"type\":\"message\",\"text\":\"[::text:]多組織多位公證人\"}},{\"bounds\":{\"x\":1700,\"y\":0,\"width\":800,\"height\":858},\"action\":{\"type\":\"message\",\"text\":\"[::text:]教學訊息\"}},{\"bounds\":{\"x\":1700,\"y\":858,\"width\":800,\"height\":810},\"action\":{\"type\":\"message\",\"text\":\"[::text:]more\"}}]},{\"richMenuId\":\"richmenu-4c7e01f5a2fe029138a430e7f66ef72a\",\"name\":\"圖文選單 1\",\"size\":{\"width\":2500,\"height\":843},\"chatBarText\":\"查看更多資訊\",\"selected\":true,\"areas\":[{\"bounds\":{\"x\":210,\"y\":11,\"width\":836,\"height\":832},\"action\":{\"type\":\"postback\",\"data\":\"NTS2\",\"text\":\"動作 1\"}},{\"bounds\":{\"x\":1507,\"y\":5,\"width\":835,\"height\":838},\"action\":{\"type\":\"postback\",\"data\":\"Intro\",\"text\":\"動作 2\"}}]},{\"richMenuId\":\"richmenu-186c37f718826afb9df27111403acdd9\",\"name\":\"區塊鏈自定義菜單\",\"size\":{\"width\":2500,\"height\":1686},\"chatBarText\":\"查看更多資訊\",\"selected\":true,\"areas\":[{\"bounds\":{\"x\":5,\"y\":0,\"width\":824,\"height\":850},\"action\":{\"type\":\"message\",\"text\":\"[::text:]傳統交易\"}},{\"bounds\":{\"x\":0,\"y\":850,\"width\":825,\"height\":818},\"action\":{\"type\":\"message\",\"text\":\"[::text:]第三方公證人\"}},{\"bounds\":{\"x\":829,\"y\":5,\"width\":871,\"height\":849},\"action\":{\"type\":\"message\",\"text\":\"[::text:]多位公證人\"}},{\"bounds\":{\"x\":825,\"y\":854,\"width\":875,\"height\":814},\"action\":{\"type\":\"message\",\"text\":\"[::text:]多組織多位公證人\"}},{\"bounds\":{\"x\":1700,\"y\":0,\"width\":800,\"height\":858},\"action\":{\"type\":\"message\",\"text\":\"[::text:]教學訊息\"}},{\"bounds\":{\"x\":1700,\"y\":858,\"width\":800,\"height\":810},\"action\":{\"type\":\"message\",\"text\":\"[::text:]more\"}}]},{\"richMenuId\":\"richmenu-a0c673af4dbff5eb772e43ff12af20eb\",\"name\":\"區塊鏈自定義菜單\",\"size\":{\"width\":2500,\"height\":1686},\"chatBarText\":\"查看更多資訊\",\"selected\":true,\"areas\":[{\"bounds\":{\"x\":5,\"y\":0,\"width\":824,\"height\":850},\"action\":{\"type\":\"message\",\"text\":\"[::text:]傳統交易\"}},{\"bounds\":{\"x\":0,\"y\":850,\"width\":825,\"height\":818},\"action\":{\"type\":\"message\",\"text\":\"[::text:]第三方公證人\"}},{\"bounds\":{\"x\":829,\"y\":5,\"width\":871,\"height\":849},\"action\":{\"type\":\"message\",\"text\":\"[::text:]多位公證人\"}},{\"bounds\":{\"x\":825,\"y\":854,\"width\":875,\"height\":814},\"action\":{\"type\":\"message\",\"text\":\"[::text:]多組織多位公證人\"}},{\"bounds\":{\"x\":1700,\"y\":0,\"width\":800,\"height\":858},\"action\":{\"type\":\"message\",\"text\":\"[::text:]教學訊息\"}},{\"bounds\":{\"x\":1700,\"y\":858,\"width\":800,\"height\":810},\"action\":{\"type\":\"message\",\"text\":\"[::text:]more\"}}]},{\"richMenuId\":\"richmenu-29e7bf8bf7c197c696bc05efddc599ca\",\"name\":\"圖文選單 1\",\"size\":{\"width\":2500,\"height\":843},\"chatBarText\":\"查看更多資訊\",\"selected\":true,\"areas\":[{\"bounds\":{\"x\":210,\"y\":11,\"width\":836,\"height\":832},\"action\":{\"type\":\"postback\",\"data\":\"FNS2\",\"text\":\"直接玩玩看吧!\"}},{\"bounds\":{\"x\":1507,\"y\":5,\"width\":835,\"height\":838},\"action\":{\"type\":\"postback\",\"data\":\"Intro\",\"text\":\"了解一下!\"}}]},{\"richMenuId\":\"richmenu-d3b5bc9c040215ab4a28e641170bd168\",\"name\":\"區塊鏈自定義菜單\",\"size\":{\"width\":2500,\"height\":1686},\"chatBarText\":\"查看更多資訊\",\"selected\":true,\"areas\":[{\"bounds\":{\"x\":5,\"y\":0,\"width\":824,\"height\":850},\"action\":{\"type\":\"message\",\"text\":\"[::text:]傳統交易\"}},{\"bounds\":{\"x\":0,\"y\":850,\"width\":825,\"height\":818},\"action\":{\"type\":\"message\",\"text\":\"[::text:]第三方公證人\"}},{\"bounds\":{\"x\":829,\"y\":5,\"width\":871,\"height\":849},\"action\":{\"type\":\"message\",\"text\":\"[::text:]多位公證人\"}},{\"bounds\":{\"x\":825,\"y\":854,\"width\":875,\"height\":814},\"action\":{\"type\":\"message\",\"text\":\"[::text:]多組織多位公證人\"}},{\"bounds\":{\"x\":1700,\"y\":0,\"width\":800,\"height\":858},\"action\":{\"type\":\"message\",\"text\":\"[::text:]教學訊息\"}},{\"bounds\":{\"x\":1700,\"y\":858,\"width\":800,\"height\":810},\"action\":{\"type\":\"message\",\"text\":\"[::text:]more\"}}]}]}\n"
     ]
    }
   ],
   "source": [
    "'''\n",
    "\n",
    "檢視帳號內，有哪些選單\n",
    "    設定Line的遠端位置\n",
    "    設定消息的基本安全憑證\n",
    "    發送消息告知\n",
    "\n",
    "'''\n",
    "\n",
    "# 設定Line的遠端位置\n",
    "listMenuEndpoint=\"https://api.line.me/v2/bot/richmenu/list\"\n",
    "\n",
    "# 設定消息的基本安全憑證\n",
    "listMenuHeader={'Authorization':'Bearer %s' % secretFileContentJson[\"channel_access_token\"]}    \n",
    "\n",
    "# 發送消息告知\n",
    "lineLisrMenuResponse = requests.get(listMenuEndpoint,headers=listMenuHeader)\n",
    "print(lineLisrMenuResponse.text)"
   ]
  },
  {
   "cell_type": "code",
   "execution_count": null,
   "metadata": {
    "colab": {},
    "colab_type": "code",
    "id": "fDgv4OLAT0NZ"
   },
   "outputs": [],
   "source": []
  }
 ],
 "metadata": {
  "colab": {
   "collapsed_sections": [],
   "name": "Step1_UserRichMenu.ipynb",
   "provenance": [],
   "version": "0.3.2"
  },
  "kernelspec": {
   "display_name": "Python 3",
   "language": "python",
   "name": "python3"
  },
  "language_info": {
   "codemirror_mode": {
    "name": "ipython",
    "version": 3
   },
   "file_extension": ".py",
   "mimetype": "text/x-python",
   "name": "python",
   "nbconvert_exporter": "python",
   "pygments_lexer": "ipython3",
   "version": "3.7.0"
  }
 },
 "nbformat": 4,
 "nbformat_minor": 1
}
